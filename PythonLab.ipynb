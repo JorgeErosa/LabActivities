{
 "cells": [
  {
   "cell_type": "markdown",
   "metadata": {},
   "source": [
    "##### Lab Activity 1: Variables and Control Flow\n",
    "###### Objective: Introduce variables, data types, and control flow statements in Python."
   ]
  },
  {
   "cell_type": "code",
   "execution_count": 1,
   "metadata": {},
   "outputs": [
    {
     "name": "stdout",
     "output_type": "stream",
     "text": [
      "Step 1\n",
      "THe numbers are 2 and 5\n"
     ]
    }
   ],
   "source": [
    "# 1. Declare two variables, `num1` and `num2`, and assign them with integer values.\n",
    "print(\"Step 1\")\n",
    "num1, num2 = 2, 5\n",
    "print(\"THe numbers are\", num1, \"and\", num2)"
   ]
  },
  {
   "cell_type": "code",
   "execution_count": 2,
   "metadata": {},
   "outputs": [
    {
     "name": "stdout",
     "output_type": "stream",
     "text": [
      "Step 2 & 3\n",
      "The second number is greater than the first\n"
     ]
    }
   ],
   "source": [
    "# 2. Write a program that checks if `num1` is greater than `num2` and prints the result.\n",
    "print(\"Step 2 & 3\")\n",
    "if num1 > num2:\n",
    "    print(\"The first number is greater than the second\")\n",
    "# 3. Use an `if-else` statement to determine if the values of `num1` and `num2` are equal or not, and print an appropriate message.\n",
    "elif num1==num2:\n",
    "    print(\"The numbers are equal\")\n",
    "else:\n",
    "    print(\"The second number is greater than the first\")"
   ]
  },
  {
   "cell_type": "code",
   "execution_count": 3,
   "metadata": {},
   "outputs": [
    {
     "name": "stdout",
     "output_type": "stream",
     "text": [
      "Step 4\n"
     ]
    },
    {
     "name": "stdin",
     "output_type": "stream",
     "text": [
      "Please enter a number:  5\n"
     ]
    }
   ],
   "source": [
    "# 4. Prompt the user to enter a number and store it in a variable.\n",
    "print(\"Step 4\")\n",
    "user_number=int(input(\"Please enter a number: \"))"
   ]
  },
  {
   "cell_type": "code",
   "execution_count": 4,
   "metadata": {},
   "outputs": [
    {
     "name": "stdout",
     "output_type": "stream",
     "text": [
      "Step 5 \n",
      "\n",
      "1\n",
      "2\n",
      "3\n",
      "4\n",
      "5\n"
     ]
    }
   ],
   "source": [
    "print(\"Step 5 \\n\")\n",
    "# 5. Use a loop to print all the numbers from 1 to the user-input number.\n",
    "for i in range(1,user_number+1):\n",
    "    print(i)"
   ]
  },
  {
   "cell_type": "markdown",
   "metadata": {},
   "source": [
    "##### Lab Activity 2: Functions and File Handling\r",
    "###### \n",
    "Objective: Introduce functions and basic file handling operations in Python\r\n"
   ]
  },
  {
   "cell_type": "code",
   "execution_count": 5,
   "metadata": {},
   "outputs": [],
   "source": [
    "# 1. Write a function that takes two parameters, `num1` and `num2`, and returns their sum.\n",
    "def sum_num(num1, num2):\n",
    "    return(num1+num2)"
   ]
  },
  {
   "cell_type": "code",
   "execution_count": 6,
   "metadata": {},
   "outputs": [],
   "source": [
    "# 2. Create a text file named \"numbers.txt\" and write a few numbers, each on a new line.\n",
    "with open(\"numbers.txt\", \"w\") as f:\n",
    "    f.write(\"1\\n2\\n3\\n4\\n5\")\n",
    "    f.close()"
   ]
  },
  {
   "cell_type": "code",
   "execution_count": 7,
   "metadata": {},
   "outputs": [],
   "source": [
    "# 3. Write a function that reads the numbers from the file and calculates their average.\n",
    "def read_and_avg(file):    \n",
    "    with open(file, \"r\") as f:\n",
    "        numbers= f.readlines()\n",
    "        f.close()\n",
    "\n",
    "    count=0\n",
    "    num_sum=0\n",
    "    for num in numbers:\n",
    "        count += 1\n",
    "        num_sum+=int(num.strip())\n",
    "\n",
    "    return(num_sum/count)"
   ]
  },
  {
   "cell_type": "code",
   "execution_count": 8,
   "metadata": {},
   "outputs": [],
   "source": [
    "# 4. Implement a function that takes a string as input and writes it to the end of the \"numbers.txt\" file.\n",
    "def add_string(string, file):\n",
    "    with open(file, \"a\") as f:\n",
    "        f.write(\"\\n\"+string)\n",
    "        f.close()\n",
    "    \n",
    "    return(file)"
   ]
  },
  {
   "cell_type": "code",
   "execution_count": 9,
   "metadata": {},
   "outputs": [],
   "source": [
    "#extra print read only\n",
    "def read_file(file):\n",
    "    with open(file, \"r\") as f:\n",
    "        lines= f.readlines()\n",
    "        f.close()\n",
    "\n",
    "    for line in lines:\n",
    "        print(line.strip())"
   ]
  },
  {
   "cell_type": "code",
   "execution_count": 10,
   "metadata": {},
   "outputs": [
    {
     "name": "stdout",
     "output_type": "stream",
     "text": [
      "15\n",
      "3.0\n",
      "Final File:\n",
      "1\n",
      "2\n",
      "3\n",
      "4\n",
      "5\n",
      "added string\n"
     ]
    }
   ],
   "source": [
    "# 5. Call the functions and print the results.\n",
    "print(sum_num(5,10))\n",
    "print(read_and_avg(\"numbers.txt\"))\n",
    "print(\"Final File:\")\n",
    "read_file(add_string(\"added string\", \"numbers.txt\"))"
   ]
  },
  {
   "cell_type": "markdown",
   "metadata": {},
   "source": [
    "##### Lab Activity 3: Lists and Basic Algorithms\r",
    "###### \n",
    "Objective: Introduce lists, basic algorithms, and list manipulation in Python\r\n"
   ]
  },
  {
   "cell_type": "code",
   "execution_count": 11,
   "metadata": {},
   "outputs": [],
   "source": [
    "# 1. Create a list of integers containing at least 10 elements\n",
    "random_list=[1,20,50,43,2,64,18,21,44,72,91,5,16]"
   ]
  },
  {
   "cell_type": "code",
   "execution_count": 12,
   "metadata": {},
   "outputs": [
    {
     "name": "stdout",
     "output_type": "stream",
     "text": [
      "The maximum value of the list is 91 and the minimum value is 1\n"
     ]
    },
    {
     "data": {
      "text/plain": [
       "(1, 91)"
      ]
     },
     "execution_count": 12,
     "metadata": {},
     "output_type": "execute_result"
    }
   ],
   "source": [
    "# 2. Write a function that takes the list as input and returns the maximum and minimum values.\n",
    "def max_min_list(list):\n",
    "    max=0\n",
    "    min=100\n",
    "    for i in range(len(list)):\n",
    "        if list[i]< min:\n",
    "            min=list[i]\n",
    "        if list[i]> max:\n",
    "            max=list[i]\n",
    "    print(\"The maximum value of the list is {} and the minimum value is {}\".format(max, min))\n",
    "    return(min,max)\n",
    "\n",
    "max_min_list(random_list)"
   ]
  },
  {
   "cell_type": "code",
   "execution_count": 13,
   "metadata": {},
   "outputs": [
    {
     "name": "stdout",
     "output_type": "stream",
     "text": [
      "The original list was [1, 20, 50, 43, 2, 64, 18, 21, 44, 72, 91, 5, 16] and the reversed list is [16, 5, 91, 72, 44, 21, 18, 64, 2, 43, 50, 20, 1]\n"
     ]
    },
    {
     "data": {
      "text/plain": [
       "[16, 5, 91, 72, 44, 21, 18, 64, 2, 43, 50, 20, 1]"
      ]
     },
     "execution_count": 13,
     "metadata": {},
     "output_type": "execute_result"
    }
   ],
   "source": [
    "# 3. Implement a function that reverses the order of the elements in the list.\n",
    "def reverse_list(list):\n",
    "    new_list=[]\n",
    "    #new_list=list[::-1]\n",
    "    for i in list:\n",
    "        new_list.insert(0,i)\n",
    "    \n",
    "    print(\"The original list was {} and the reversed list is {}\".format(list, new_list))\n",
    "    return(new_list)\n",
    "\n",
    "reverse_list(random_list)"
   ]
  },
  {
   "cell_type": "code",
   "execution_count": 14,
   "metadata": {},
   "outputs": [
    {
     "name": "stdout",
     "output_type": "stream",
     "text": [
      "The index of value 44 is 8\n"
     ]
    },
    {
     "data": {
      "text/plain": [
       "8"
      ]
     },
     "execution_count": 14,
     "metadata": {},
     "output_type": "execute_result"
    }
   ],
   "source": [
    "# 4. Write a function that searches for a given value in the list and returns its index.\n",
    "def find_index(list, value):\n",
    "    for i in range(len(list)):\n",
    "        if list[i]==value:\n",
    "            a=i\n",
    "\n",
    "    print(\"The index of value {} is {}\".format(value, a))\n",
    "    return(a)\n",
    "\n",
    "find_index(random_list, 44)"
   ]
  },
  {
   "cell_type": "code",
   "execution_count": 15,
   "metadata": {},
   "outputs": [
    {
     "name": "stdout",
     "output_type": "stream",
     "text": [
      "The original list was [1, 20, 50, 43, 2, 64, 18, 21, 44, 72, 91, 5, 16] and the even numbered list is [20, 50, 2, 64, 18, 44, 72, 16]\n"
     ]
    },
    {
     "data": {
      "text/plain": [
       "[20, 50, 2, 64, 18, 44, 72, 16]"
      ]
     },
     "execution_count": 15,
     "metadata": {},
     "output_type": "execute_result"
    }
   ],
   "source": [
    "# 5. Implement a function that takes a list of numbers and returns a new list with only the even numbers.\n",
    "def even_num(list):\n",
    "    even_list=[]\n",
    "    for i in range(len(list)):\n",
    "        if list[i]%2 == 0:\n",
    "            even_list.append(list[i])\n",
    "\n",
    "    print(\"The original list was {} and the even numbered list is {}\".format(list, even_list))\n",
    "    return(even_list)\n",
    "\n",
    "even_num(random_list)"
   ]
  },
  {
   "cell_type": "code",
   "execution_count": null,
   "metadata": {},
   "outputs": [],
   "source": []
  }
 ],
 "metadata": {
  "kernelspec": {
   "display_name": "Python 3 (ipykernel)",
   "language": "python",
   "name": "python3"
  },
  "language_info": {
   "codemirror_mode": {
    "name": "ipython",
    "version": 3
   },
   "file_extension": ".py",
   "mimetype": "text/x-python",
   "name": "python",
   "nbconvert_exporter": "python",
   "pygments_lexer": "ipython3",
   "version": "3.11.4"
  }
 },
 "nbformat": 4,
 "nbformat_minor": 4
}
